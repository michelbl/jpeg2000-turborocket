{
 "cells": [
  {
   "cell_type": "code",
   "execution_count": 1,
   "metadata": {
    "collapsed": true
   },
   "outputs": [],
   "source": [
    "import boxes"
   ]
  },
  {
   "cell_type": "markdown",
   "metadata": {},
   "source": [
    "# Read data"
   ]
  },
  {
   "cell_type": "code",
   "execution_count": 7,
   "metadata": {},
   "outputs": [],
   "source": [
    "filename = \"13-2014-0830-6260-LA93-0M20-E080.jp2\"\n",
    "data = boxes.read_jp2(filename)\n",
    "boxes_bytes = boxes.read_boxes(data)\n",
    "parsed_boxes = boxes.parse_boxes_bytes(boxes_bytes)"
   ]
  },
  {
   "cell_type": "code",
   "execution_count": 9,
   "metadata": {},
   "outputs": [],
   "source": [
    "data = parsed_boxes[4].data"
   ]
  },
  {
   "cell_type": "markdown",
   "metadata": {},
   "source": [
    "# Read codestream"
   ]
  },
  {
   "cell_type": "code",
   "execution_count": 29,
   "metadata": {},
   "outputs": [],
   "source": [
    "# Marker segments\n",
    "\n",
    "class MarkerSegment(object):\n",
    "    START_OF_STREAM_MARKER = b'\\xff\\x4f'\n",
    "\n",
    "    @classmethod\n",
    "    def factory(cls, data, cursor):\n",
    "        marker = data[cursor:cursor+2]\n",
    "        if marker == cls.START_OF_STREAM_MARKER:\n",
    "            return StartOfStreamMarkerSegment(data, cursor)\n",
    "        else:\n",
    "            pretty_code = ':'.join(\"{:02x}\".format(x) for x in marker)\n",
    "            raise NotImplementedError(pretty_code)\n",
    "\n",
    "    def __repr__(self):\n",
    "        return \"A \" + type(self).__name__ + \" filled with the data :\\n\" + '\\n'.join(\n",
    "            [indent(\"{}: {}\".format(k, v)) for k, v in get_variables(self).items()])\n",
    "\n",
    "    \n",
    "class StartOfStreamMarkerSegment(MarkerSegment):\n",
    "    def __init__(self, data, cursor):\n",
    "        self.length_in_codestream = 2\n",
    "\n",
    "    def __repr__(self):\n",
    "        return \"A quiet SOT (start of stream) marker segment\"\n",
    "\n",
    "\n",
    "def read_boxes(data):\n",
    "    marker_segments = []\n",
    "    cursor = 0\n",
    "    while cursor < len(data):\n",
    "        marker_segment = MarkerSegment.factory(data, cursor)\n",
    "        marker_segments.append(marker_segment)\n",
    "        cursor += marker_segment.length_in_codestream\n",
    "    return marker_segments\n",
    "\n"
   ]
  },
  {
   "cell_type": "code",
   "execution_count": 30,
   "metadata": {},
   "outputs": [
    {
     "ename": "NotImplementedError",
     "evalue": "ff:51",
     "output_type": "error",
     "traceback": [
      "\u001b[0;31m---------------------------------------------------------------------------\u001b[0m",
      "\u001b[0;31mNotImplementedError\u001b[0m                       Traceback (most recent call last)",
      "\u001b[0;32m<ipython-input-30-1bfdf7864567>\u001b[0m in \u001b[0;36m<module>\u001b[0;34m()\u001b[0m\n\u001b[0;32m----> 1\u001b[0;31m \u001b[0mread_boxes\u001b[0m\u001b[0;34m(\u001b[0m\u001b[0mdata\u001b[0m\u001b[0;34m)\u001b[0m\u001b[0;34m\u001b[0m\u001b[0m\n\u001b[0m",
      "\u001b[0;32m<ipython-input-29-160333f96a75>\u001b[0m in \u001b[0;36mread_boxes\u001b[0;34m(data)\u001b[0m\n\u001b[1;32m     30\u001b[0m     \u001b[0mcursor\u001b[0m \u001b[0;34m=\u001b[0m \u001b[0;36m0\u001b[0m\u001b[0;34m\u001b[0m\u001b[0m\n\u001b[1;32m     31\u001b[0m     \u001b[0;32mwhile\u001b[0m \u001b[0mcursor\u001b[0m \u001b[0;34m<\u001b[0m \u001b[0mlen\u001b[0m\u001b[0;34m(\u001b[0m\u001b[0mdata\u001b[0m\u001b[0;34m)\u001b[0m\u001b[0;34m:\u001b[0m\u001b[0;34m\u001b[0m\u001b[0m\n\u001b[0;32m---> 32\u001b[0;31m         \u001b[0mmarker_segment\u001b[0m \u001b[0;34m=\u001b[0m \u001b[0mMarkerSegment\u001b[0m\u001b[0;34m.\u001b[0m\u001b[0mfactory\u001b[0m\u001b[0;34m(\u001b[0m\u001b[0mdata\u001b[0m\u001b[0;34m,\u001b[0m \u001b[0mcursor\u001b[0m\u001b[0;34m)\u001b[0m\u001b[0;34m\u001b[0m\u001b[0m\n\u001b[0m\u001b[1;32m     33\u001b[0m         \u001b[0mmarker_segments\u001b[0m\u001b[0;34m.\u001b[0m\u001b[0mappend\u001b[0m\u001b[0;34m(\u001b[0m\u001b[0mmarker_segment\u001b[0m\u001b[0;34m)\u001b[0m\u001b[0;34m\u001b[0m\u001b[0m\n\u001b[1;32m     34\u001b[0m         \u001b[0mcursor\u001b[0m \u001b[0;34m+=\u001b[0m \u001b[0mmarker_segment\u001b[0m\u001b[0;34m.\u001b[0m\u001b[0mlength_in_codestream\u001b[0m\u001b[0;34m\u001b[0m\u001b[0m\n",
      "\u001b[0;32m<ipython-input-29-160333f96a75>\u001b[0m in \u001b[0;36mfactory\u001b[0;34m(cls, data, cursor)\u001b[0m\n\u001b[1;32m     11\u001b[0m         \u001b[0;32melse\u001b[0m\u001b[0;34m:\u001b[0m\u001b[0;34m\u001b[0m\u001b[0m\n\u001b[1;32m     12\u001b[0m             \u001b[0mpretty_code\u001b[0m \u001b[0;34m=\u001b[0m \u001b[0;34m':'\u001b[0m\u001b[0;34m.\u001b[0m\u001b[0mjoin\u001b[0m\u001b[0;34m(\u001b[0m\u001b[0;34m\"{:02x}\"\u001b[0m\u001b[0;34m.\u001b[0m\u001b[0mformat\u001b[0m\u001b[0;34m(\u001b[0m\u001b[0mx\u001b[0m\u001b[0;34m)\u001b[0m \u001b[0;32mfor\u001b[0m \u001b[0mx\u001b[0m \u001b[0;32min\u001b[0m \u001b[0mmarker\u001b[0m\u001b[0;34m)\u001b[0m\u001b[0;34m\u001b[0m\u001b[0m\n\u001b[0;32m---> 13\u001b[0;31m             \u001b[0;32mraise\u001b[0m \u001b[0mNotImplementedError\u001b[0m\u001b[0;34m(\u001b[0m\u001b[0mpretty_code\u001b[0m\u001b[0;34m)\u001b[0m\u001b[0;34m\u001b[0m\u001b[0m\n\u001b[0m\u001b[1;32m     14\u001b[0m \u001b[0;34m\u001b[0m\u001b[0m\n\u001b[1;32m     15\u001b[0m     \u001b[0;32mdef\u001b[0m \u001b[0m__repr__\u001b[0m\u001b[0;34m(\u001b[0m\u001b[0mself\u001b[0m\u001b[0;34m)\u001b[0m\u001b[0;34m:\u001b[0m\u001b[0;34m\u001b[0m\u001b[0m\n",
      "\u001b[0;31mNotImplementedError\u001b[0m: ff:51"
     ]
    }
   ],
   "source": [
    "read_boxes(data)"
   ]
  },
  {
   "cell_type": "code",
   "execution_count": null,
   "metadata": {
    "collapsed": true
   },
   "outputs": [],
   "source": []
  }
 ],
 "metadata": {
  "kernelspec": {
   "display_name": "Python 3",
   "language": "python",
   "name": "python3"
  },
  "language_info": {
   "codemirror_mode": {
    "name": "ipython",
    "version": 3
   },
   "file_extension": ".py",
   "mimetype": "text/x-python",
   "name": "python",
   "nbconvert_exporter": "python",
   "pygments_lexer": "ipython3",
   "version": "3.5.3"
  }
 },
 "nbformat": 4,
 "nbformat_minor": 2
}

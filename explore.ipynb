{
 "cells": [
  {
   "cell_type": "code",
   "execution_count": 173,
   "metadata": {
    "collapsed": true
   },
   "outputs": [],
   "source": [
    "import boxes"
   ]
  },
  {
   "cell_type": "markdown",
   "metadata": {},
   "source": [
    "# Read file"
   ]
  },
  {
   "cell_type": "code",
   "execution_count": 174,
   "metadata": {},
   "outputs": [],
   "source": [
    "filename = \"13-2014-0830-6260-LA93-0M20-E080.jp2\"\n",
    "data = boxes.read_jp2(filename)"
   ]
  },
  {
   "cell_type": "markdown",
   "metadata": {},
   "source": [
    "# Read boxes"
   ]
  },
  {
   "cell_type": "code",
   "execution_count": 175,
   "metadata": {},
   "outputs": [],
   "source": [
    "boxes_bytes = read_boxes(data)"
   ]
  },
  {
   "cell_type": "code",
   "execution_count": 176,
   "metadata": {},
   "outputs": [],
   "source": [
    "boxes = parse_boxes_bytes(boxes_bytes)"
   ]
  },
  {
   "cell_type": "code",
   "execution_count": 177,
   "metadata": {},
   "outputs": [
    {
     "name": "stdout",
     "output_type": "stream",
     "text": [
      "A quiet signature box\n",
      "A type box claiming compatibility with b'jp2 '\n",
      "A HeaderBox containing :\n",
      "    A ImageHeaderBox filled with the data :\n",
      "        NC_nb_components: 3\n",
      "        IPR_intellectual_property: 0\n",
      "        BPC_bits_per_components: 7\n",
      "        C_compression_type: 7\n",
      "        width: 25000\n",
      "        height: 25000\n",
      "        UnkC_colourspace_unknown: 1\n",
      "    A ColourSpecificationBox filled with the data :\n",
      "        METH_specification_method: 1\n",
      "        EnumCS_enumerated_colourspace: 16\n",
      "        APPROX_colourspace_approximation: 0\n",
      "        PREC_precedence: 0\n",
      "    A ResolutionBox containing :\n",
      "        A DefaultDisplayResolutionBox filled with the data :\n",
      "            VRdE: 2\n",
      "            HRdN: 12901\n",
      "            HRdE: 2\n",
      "            VRdD: 32768\n",
      "            HRdD: 32768\n",
      "            VRdN: 12901\n",
      "A UUID box with ID b'\\xb1K\\xf8\\xbd\\x08=KC\\xa5\\xae\\x8c\\xd7\\xd5\\xa6\\xce\\x03' and DATA b'II*\\x00\\t\\x00\\x00\\x00\\x00\\x11\\x00\\x00\\x01\\x03\\x00\\x01\\x00\\x00\\x00\\x01\\x00\\x00\\x00\\x01\\x01\\x03\\x00\\x01\\x00\\x00\\x00\\x01\\x00\\x00\\x00\\x02\\x01\\x03\\x00\\x01\\x00\\x00\\x00\\x08\\x00\\x00\\x00\\x06\\x01\\x03\\x00\\x01\\x00\\x00\\x00\\x01\\x00\\x00\\x00\\x11\\x01\\x03\\x00\\x01\\x00\\x00\\x00\\x08\\x00\\x00\\x00\\x15\\x01\\x03\\x00\\x01\\x00\\x00\\x00\\x01\\x00\\x00\\x00\\x16\\x01\\x03\\x00\\x01\\x00\\x00\\x00\\x01\\x00\\x00\\x00\\x17\\x01\\x03\\x00\\x01\\x00\\x00\\x00\\x01\\x00\\x00\\x00\\x1a\\x01\\x05\\x00\\x01\\x00\\x00\\x00\\xdb\\x00\\x00\\x00\\x1b\\x01\\x05\\x00\\x01\\x00\\x00\\x00\\xe3\\x00\\x00\\x00\\x1c\\x01\\x03\\x00\\x01\\x00\\x00\\x00\\x01\\x00\\x00\\x00(\\x01\\x03\\x00\\x01\\x00\\x00\\x00\\x01\\x00\\x00\\x00\\x0e\\x83\\x0c\\x00\\x03\\x00\\x00\\x00\\xeb\\x00\\x00\\x00\\x82\\x84\\x0c\\x00\\x06\\x00\\x00\\x00\\x03\\x01\\x00\\x00\\xaf\\x87\\x03\\x00\\\\\\x00\\x00\\x003\\x01\\x00\\x00\\xb0\\x87\\x0c\\x00\\t\\x00\\x00\\x00\\xeb\\x01\\x00\\x00\\xb1\\x87\\x02\\x00\\\\\\x00\\x00\\x003\\x02\\x00\\x00\\x00\\x00\\x00\\x00\\x01\\x00\\x00\\x00\\x01\\x00\\x00\\x00\\x01\\x00\\x00\\x00\\x01\\x00\\x00\\x00\\x9a\\x99\\x99\\x99\\x99\\x99\\xc9?\\x9a\\x99\\x99\\x99\\x99\\x99\\xc9?\\x00\\x00\\x00\\x00\\x00\\x00\\x00\\x00\\x00\\x00\\x00\\x00\\x00\\x00\\x00\\x00\\x00\\x00\\x00\\x00\\x00\\x00\\x00\\x00\\x00\\x00\\x00\\x00\\x00\\x00\\x00\\x00\\x00\\x00\\x00\\x00`T)A\\x00\\x00\\x00\\x00H\\xe1WA\\x00\\x00\\x00\\x00\\x00\\x00\\x00\\x00\\x01\\x00\\x01\\x00\\x00\\x00\\x15\\x00\\x00\\x04\\x00\\x00\\x01\\x00\\x01\\x00\\x01\\x04\\x00\\x00\\x01\\x00\\x01\\x00\\x02\\x04\\xb1\\x87\\x08\\x00\\x00\\x00\\x00\\x08\\x00\\x00\\x01\\x00\\xff\\x7f\\x01\\x08\\xb1\\x87S\\x00\\x08\\x00\\x02\\x08\\x00\\x00\\x01\\x00\\xff\\x7f\\x06\\x08\\x00\\x00\\x01\\x00\\x8e#\\x08\\x08\\x00\\x00\\x01\\x00\\xff\\x7f\\t\\x08\\xb0\\x87\\x01\\x00\\x06\\x00\\x0b\\x08\\xb0\\x87\\x01\\x00\\x07\\x00\\r\\x08\\xb0\\x87\\x01\\x00\\x08\\x00\\x00\\x0c\\x00\\x00\\x01\\x00\\xff\\x7f\\x02\\x0c\\x00\\x00\\x01\\x00\\xff\\x7f\\x03\\x0c\\x00\\x00\\x01\\x00\\x08\\x00\\x04\\x0c\\x00\\x00\\x01\\x00)#\\x06\\x0c\\xb0\\x87\\x01\\x00\\x02\\x00\\x07\\x0c\\xb0\\x87\\x01\\x00\\x03\\x00\\x0c\\x0c\\xb0\\x87\\x01\\x00\\x01\\x00\\r\\x0c\\xb0\\x87\\x01\\x00\\x00\\x00\\x0e\\x0c\\xb0\\x87\\x01\\x00\\x04\\x00\\x0f\\x0c\\xb0\\x87\\x01\\x00\\x05\\x00\\x00\\x00\\x00\\x00\\x00\\x00\\x00\\x00\\x00\\x00\\x00\\x00\\x00@G@\\x00\\x00\\x00\\x00\\x00\\x00\\x08@\\x00\\x00\\x00\\x00\\x00\\x00F@\\x00\\x00\\x00\\x00\\x00\\x80H@\\x00\\x00\\x00\\x00\\xc0\\\\%A\\x00\\x00\\x00\\x00P-YA\\x00\\x00\\x00@\\xa6TXA\\xa8\\xf9\\xeb\\x94\\x1d\\xa4r@\\x00\\x00\\x00\\x00\\x00\\x00\\x00\\x00unnamed|GCS Name = unnamed ellipse|Datum = unknown|Ellipsoid = unnamed|Primem = Greenwich||\\x00'\n",
      "A mysterious codestream box of length 94375713\n"
     ]
    }
   ],
   "source": [
    "for box in boxes:\n",
    "    print(box)"
   ]
  },
  {
   "cell_type": "code",
   "execution_count": null,
   "metadata": {
    "collapsed": true
   },
   "outputs": [],
   "source": []
  }
 ],
 "metadata": {
  "kernelspec": {
   "display_name": "Python 3",
   "language": "python",
   "name": "python3"
  },
  "language_info": {
   "codemirror_mode": {
    "name": "ipython",
    "version": 3
   },
   "file_extension": ".py",
   "mimetype": "text/x-python",
   "name": "python",
   "nbconvert_exporter": "python",
   "pygments_lexer": "ipython3",
   "version": "3.5.3"
  }
 },
 "nbformat": 4,
 "nbformat_minor": 2
}

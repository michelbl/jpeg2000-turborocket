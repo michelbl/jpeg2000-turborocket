{
 "cells": [
  {
   "cell_type": "code",
   "execution_count": null,
   "metadata": {
    "collapsed": true
   },
   "outputs": [],
   "source": []
  },
  {
   "cell_type": "markdown",
   "metadata": {},
   "source": [
    "# Common functions"
   ]
  },
  {
   "cell_type": "code",
   "execution_count": 119,
   "metadata": {
    "collapsed": true
   },
   "outputs": [],
   "source": [
    "def read_int_32(data, cursor):\n",
    "    bits = data[cursor:cursor+4]\n",
    "    return int.from_bytes(bits, byteorder=\"big\")\n",
    "\n",
    "def read_int_16(data, cursor):\n",
    "    bits = data[cursor:cursor+2]\n",
    "    return int.from_bytes(bits, byteorder=\"big\")\n",
    "\n",
    "def read_int_8(data, cursor):\n",
    "    bits = data[cursor:cursor+1]\n",
    "    return int.from_bytes(bits, byteorder=\"big\")\n"
   ]
  },
  {
   "cell_type": "markdown",
   "metadata": {},
   "source": [
    "# Read file"
   ]
  },
  {
   "cell_type": "code",
   "execution_count": 2,
   "metadata": {},
   "outputs": [],
   "source": [
    "filename = \"13-2014-0830-6260-LA93-0M20-E080.jp2\"\n",
    "with open(filename, 'rb') as f:\n",
    "    data = f.read()"
   ]
  },
  {
   "cell_type": "code",
   "execution_count": 5,
   "metadata": {},
   "outputs": [
    {
     "data": {
      "text/plain": [
       "(bytes,\n",
       " 94376503,\n",
       " b'\\x00\\x00\\x00\\x0cjP  \\r\\n\\x87\\n\\x00\\x00\\x00\\x14ftypjp2 \\x00\\x00\\x00\\x00jp2 \\x00\\x00\\x00Gjp2h\\x00\\x00\\x00\\x16ihdr\\x00\\x00a\\xa8\\x00\\x00a\\xa8\\x00\\x03\\x07\\x07\\x01\\x00\\x00\\x00\\x00\\x0fcolr\\x01\\x00\\x00\\x00\\x00\\x00\\x10\\x00\\x00\\x00\\x1ares \\x00\\x00\\x00\\x12resd2e\\x80\\x002e\\x80')"
      ]
     },
     "execution_count": 5,
     "metadata": {},
     "output_type": "execute_result"
    }
   ],
   "source": [
    "type(data), len(data), data[:100]"
   ]
  },
  {
   "cell_type": "markdown",
   "metadata": {},
   "source": [
    "# Read boxes"
   ]
  },
  {
   "cell_type": "code",
   "execution_count": 35,
   "metadata": {
    "collapsed": true
   },
   "outputs": [],
   "source": [
    "class BoxBytes(object):\n",
    "    def __init__(self, data, cursor):\n",
    "        self.LBox = read_int_32(data, cursor)\n",
    "        self.TBox = data[cursor+4:cursor+8]\n",
    "        if self.LBox >= 8:\n",
    "            pass\n",
    "        elif self.LBox == 0:\n",
    "            self.LBox = len(data) - cursor\n",
    "        else:\n",
    "            raise ValueError(LBox)\n",
    "\n",
    "        self.DBox = data[cursor+8:cursor+self.LBox]"
   ]
  },
  {
   "cell_type": "code",
   "execution_count": 95,
   "metadata": {
    "collapsed": true
   },
   "outputs": [],
   "source": [
    "def read_boxes(data):\n",
    "    boxes_bytes = []\n",
    "    cursor = 0\n",
    "    while cursor < len(data):\n",
    "        box_bytes = BoxBytes(data, cursor)\n",
    "        boxes_bytes.append(box_bytes)\n",
    "        cursor += box_bytes.LBox\n",
    "    return boxes_bytes"
   ]
  },
  {
   "cell_type": "code",
   "execution_count": 97,
   "metadata": {
    "collapsed": true
   },
   "outputs": [],
   "source": [
    "def parse_boxes_bytes(boxes_bytes):\n",
    "    boxes = []\n",
    "    for box_bytes in boxes_bytes:\n",
    "        box = Box.factory(box_bytes)\n",
    "        boxes.append(box)\n",
    "    return boxes"
   ]
  },
  {
   "cell_type": "code",
   "execution_count": 112,
   "metadata": {
    "collapsed": true
   },
   "outputs": [],
   "source": [
    "def indent(block):\n",
    "    indentation = '    '\n",
    "    return indentation + ('\\n' + indentation).join(block.split('\\n'))"
   ]
  },
  {
   "cell_type": "code",
   "execution_count": 120,
   "metadata": {
    "collapsed": true
   },
   "outputs": [],
   "source": [
    "def get_variables(A):\n",
    "    return {\n",
    "        key:value\n",
    "        for key, value in A.__dict__.items()\n",
    "        if not key.startswith('__') and not callable(key)\n",
    "        }"
   ]
  },
  {
   "cell_type": "code",
   "execution_count": 169,
   "metadata": {},
   "outputs": [],
   "source": [
    "class Box(object):\n",
    "    SIGNATURE_BOX_TYPE = b'jP  '\n",
    "    FILE_TYPE_BOX_TYPE = b'ftyp'\n",
    "    HEADER_BOX_TYPE = b'jp2h'\n",
    "    IMAGE_HEADER_BOX_TYPE = b'ihdr'\n",
    "    COLOUR_SPECIFICATION_BOX_TYPE = b'colr'\n",
    "    RESOLUTION_BOX_TYPE = b'res '\n",
    "    DEFAULT_DISPLAY_RESOLUTION_BOX_TYPE = b'resd'\n",
    "    CODESTREAM_BOX_TYPE = b'jp2c'\n",
    "    UUID_BOX_TYPE = b'uuid'\n",
    "\n",
    "    @classmethod\n",
    "    def factory(cls, box_bytes):\n",
    "        TBox = box_bytes.TBox\n",
    "        if TBox == cls.SIGNATURE_BOX_TYPE:\n",
    "            return SignatureBox(box_bytes)\n",
    "        elif TBox == cls.FILE_TYPE_BOX_TYPE:\n",
    "            return FileTypeBox(box_bytes)\n",
    "        elif TBox == cls.HEADER_BOX_TYPE:\n",
    "            return HeaderBox(box_bytes)\n",
    "        elif TBox == cls.IMAGE_HEADER_BOX_TYPE:\n",
    "            return ImageHeaderBox(box_bytes)\n",
    "        elif TBox == cls.COLOUR_SPECIFICATION_BOX_TYPE:\n",
    "            return ColourSpecificationBox(box_bytes)\n",
    "        elif TBox == cls.RESOLUTION_BOX_TYPE:\n",
    "            return ResolutionBox(box_bytes)\n",
    "        elif TBox == cls.DEFAULT_DISPLAY_RESOLUTION_BOX_TYPE:\n",
    "            return DefaultDisplayResolutionBox(box_bytes)\n",
    "        elif TBox == cls.CODESTREAM_BOX_TYPE:\n",
    "            return CodestreamBox(box_bytes)\n",
    "        elif TBox == cls.UUID_BOX_TYPE:\n",
    "            return UUID_Box(box_bytes)\n",
    "        else:\n",
    "            return UnknownBox(box_bytes)\n",
    "\n",
    "    def __repr__(self):\n",
    "        return \"A \" + type(self).__name__ + \" filled with the data :\\n\" + '\\n'.join(\n",
    "            [indent(\"{}: {}\".format(k, v)) for k, v in get_variables(self).items()])\n",
    "\n",
    "           \n",
    "class SuperBox(Box):\n",
    "    def __init__(self, box_bytes):\n",
    "        content = box_bytes.DBox\n",
    "        boxes_bytes = read_boxes(content)\n",
    "        self.boxes = parse_boxes_bytes(boxes_bytes)\n",
    "\n",
    "    def __repr__(self):\n",
    "        return \"A \" + type(self).__name__ + \" containing :\\n\" + '\\n'.join(\n",
    "            [indent(str(e)) for e in self.boxes])\n",
    "\n",
    "\n",
    "class SignatureBox(Box):\n",
    "    SIGNATURE_BOX_CONTENT = b'\\r\\n\\x87\\n'\n",
    "    \n",
    "    def __init__(self, box_bytes):\n",
    "        assert(box_bytes.TBox == self.SIGNATURE_BOX_TYPE), \"ISO 15444-1 p.154\"\n",
    "        assert(box_bytes.LBox == 12), \"ISO 15444-1 p.154\"\n",
    "        assert(box_bytes.DBox == self.SIGNATURE_BOX_CONTENT), \"ISO 15444-1 p.154\"\n",
    "    \n",
    "    def __repr__(self):\n",
    "        return \"A quiet signature box\"\n",
    "\n",
    "    \n",
    "class FileTypeBox(Box):\n",
    "    BRAND = b'jp2 '\n",
    "    VERSION = 0\n",
    "    def __init__(self, box_bytes):\n",
    "        assert(box_bytes.TBox == self.FILE_TYPE_BOX_TYPE)\n",
    "        \n",
    "        content = box_bytes.DBox\n",
    "        \n",
    "        self.BR_brand = content[0:4]\n",
    "        assert self.BR_brand == self.BRAND, \"ISO 15444-1 p.155\"\n",
    "        \n",
    "        self.MinV = read_int_32(content, 4)\n",
    "        assert self.MinV == self.VERSION, \"ISO 15444-1 p.155\"\n",
    "\n",
    "        assert len(content) % 4 == 0\n",
    "        self.nb_compatibility_list = (len(content) - 8) // 4\n",
    "        compatibility_list = []\n",
    "        for i in range(self.nb_compatibility_list):\n",
    "            compatibility_element = content[8+4*i:12+4*i]\n",
    "            compatibility_list.append(compatibility_element)\n",
    "        self.compatibility_list = compatibility_list\n",
    "\n",
    "    def __repr__(self):\n",
    "        return \"A type box claiming compatibility with \" + ', '.join([str(e) for e in self.compatibility_list])\n",
    "\n",
    "\n",
    "class HeaderBox(SuperBox):\n",
    "    def __init__(self, box_bytes):\n",
    "        assert(box_bytes.TBox == self.HEADER_BOX_TYPE)\n",
    "        \n",
    "        super().__init__(box_bytes)\n",
    "\n",
    "class ImageHeaderBox(Box):\n",
    "    COMPRESSION_TYPE = 7\n",
    "    \n",
    "    def __init__(self, box_bytes):\n",
    "        assert(box_bytes.TBox == self.IMAGE_HEADER_BOX_TYPE)\n",
    "        \n",
    "        content = box_bytes.DBox\n",
    "        assert len(content) == 14\n",
    "        \n",
    "        self.height = read_int_32(content, 0)\n",
    "        self.width = read_int_32(content, 4)\n",
    "        self.NC_nb_components = read_int_16(content, 8)\n",
    "        self.BPC_bits_per_components = read_int_8(content, 10)\n",
    "        \n",
    "        self.C_compression_type = read_int_8(content, 11)\n",
    "        assert self.C_compression_type == self.COMPRESSION_TYPE, \"ISO 15444-1 p.158\"\n",
    "\n",
    "        self.UnkC_colourspace_unknown = read_int_8(content, 12)\n",
    "        assert self.UnkC_colourspace_unknown in {0, 1}, \"ISO 15444-1 p.159\"\n",
    "\n",
    "        self.IPR_intellectual_property = read_int_8(content, 13)\n",
    "        assert self.UnkC_colourspace_unknown in {0, 1}, \"ISO 15444-1 p.159\"\n",
    "\n",
    "\n",
    "class ColourSpecificationBox(Box):\n",
    "    def __init__(self, box_bytes):\n",
    "        assert(box_bytes.TBox == self.COLOUR_SPECIFICATION_BOX_TYPE)\n",
    "        \n",
    "        content = box_bytes.DBox\n",
    "        \n",
    "        self.METH_specification_method = read_int_8(content, 0)\n",
    "        assert self.METH_specification_method in {1, 2}, \"ISO 15444-1 p.161\"\n",
    "\n",
    "        self.PREC_precedence = read_int_8(content, 1)\n",
    "        assert self.PREC_precedence == 0, \"ISO 15444-1 p.161\"\n",
    "\n",
    "        self.APPROX_colourspace_approximation = read_int_8(content, 2)\n",
    "        assert self.APPROX_colourspace_approximation == 0, \"ISO 15444-1 p.161\"\n",
    "        \n",
    "        if self.METH_specification_method == 1:\n",
    "            assert len(content) == 7\n",
    "            \n",
    "            self.EnumCS_enumerated_colourspace = read_int_32(content, 3)\n",
    "            assert self.EnumCS_enumerated_colourspace in {16, 17}, \"ISO 15444-1 p.161\"\n",
    "            \n",
    "        elif self.METH_specification_method == 2:\n",
    "            self.PROFILE_ICC_profile = content[3:]\n",
    "\n",
    "    \n",
    "class ResolutionBox(SuperBox):\n",
    "    def __init__(self, box_bytes):\n",
    "        assert(box_bytes.TBox == self.RESOLUTION_BOX_TYPE)\n",
    "\n",
    "        super().__init__(box_bytes)\n",
    "\n",
    "    \n",
    "class DefaultDisplayResolutionBox(Box):\n",
    "    def __init__(self, box_bytes):\n",
    "        assert(box_bytes.TBox == self.DEFAULT_DISPLAY_RESOLUTION_BOX_TYPE)\n",
    "        \n",
    "        content = box_bytes.DBox\n",
    "        assert len(content) == 10, \"ISO 15444-1 p.173\"\n",
    "        \n",
    "        self.VRdN = read_int_16(content, 0)\n",
    "        self.VRdD = read_int_16(content, 2)\n",
    "        self.HRdN = read_int_16(content, 4)\n",
    "        self.HRdD = read_int_16(content, 6)\n",
    "        self.VRdE = read_int_8(content, 8)\n",
    "        self.HRdE = read_int_8(content, 9)\n",
    "\n",
    "    \n",
    "class CodestreamBox(Box):\n",
    "    def __init__(self, box_bytes):\n",
    "        assert(box_bytes.TBox == self.CODESTREAM_BOX_TYPE)\n",
    "        \n",
    "        self.data = box_bytes.DBox\n",
    "    \n",
    "    def __repr__(self):\n",
    "        return \"A mysterious codestream box of length {}\".format(len(self.data))\n",
    "    \n",
    "    \n",
    "    \n",
    "class UUID_Box(Box):\n",
    "    def __init__(self, box_bytes):\n",
    "        assert(box_bytes.TBox == self.UUID_BOX_TYPE)\n",
    "        \n",
    "        content = box_bytes.DBox\n",
    "\n",
    "        self.ID = content[:16]\n",
    "        \n",
    "        self.data = content[16:]\n",
    "\n",
    "    def __repr__(self):\n",
    "        return \"A UUID box with ID {} and DATA {}\".format(self.ID, self.data)\n",
    "\n",
    "\n",
    "class UnknownBox(Box):\n",
    "    def __init__(self, box_bytes):\n",
    "        self.box_bytes = box_bytes\n",
    "        pass\n",
    "    \n",
    "    def __repr__(self):\n",
    "        TBox = self.box_bytes.TBox\n",
    "        LBox = self.box_bytes.LBox\n",
    "        return \"Unknown TBox {} of length {}\".format(TBox, LBox)\n"
   ]
  },
  {
   "cell_type": "code",
   "execution_count": 170,
   "metadata": {},
   "outputs": [],
   "source": [
    "boxes_bytes = read_boxes(data)"
   ]
  },
  {
   "cell_type": "code",
   "execution_count": 171,
   "metadata": {},
   "outputs": [],
   "source": [
    "boxes = parse_boxes_bytes(boxes_bytes)"
   ]
  },
  {
   "cell_type": "code",
   "execution_count": 172,
   "metadata": {},
   "outputs": [
    {
     "name": "stdout",
     "output_type": "stream",
     "text": [
      "A quiet signature box\n",
      "A type box claiming compatibility with b'jp2 '\n",
      "A HeaderBox containing :\n",
      "    A ImageHeaderBox filled with the data :\n",
      "        NC_nb_components: 3\n",
      "        IPR_intellectual_property: 0\n",
      "        BPC_bits_per_components: 7\n",
      "        C_compression_type: 7\n",
      "        width: 25000\n",
      "        height: 25000\n",
      "        UnkC_colourspace_unknown: 1\n",
      "    A ColourSpecificationBox filled with the data :\n",
      "        METH_specification_method: 1\n",
      "        EnumCS_enumerated_colourspace: 16\n",
      "        APPROX_colourspace_approximation: 0\n",
      "        PREC_precedence: 0\n",
      "    A ResolutionBox containing :\n",
      "        A DefaultDisplayResolutionBox filled with the data :\n",
      "            VRdE: 2\n",
      "            HRdN: 12901\n",
      "            HRdE: 2\n",
      "            VRdD: 32768\n",
      "            HRdD: 32768\n",
      "            VRdN: 12901\n",
      "A UUID box with ID b'\\xb1K\\xf8\\xbd\\x08=KC\\xa5\\xae\\x8c\\xd7\\xd5\\xa6\\xce\\x03' and DATA b'II*\\x00\\t\\x00\\x00\\x00\\x00\\x11\\x00\\x00\\x01\\x03\\x00\\x01\\x00\\x00\\x00\\x01\\x00\\x00\\x00\\x01\\x01\\x03\\x00\\x01\\x00\\x00\\x00\\x01\\x00\\x00\\x00\\x02\\x01\\x03\\x00\\x01\\x00\\x00\\x00\\x08\\x00\\x00\\x00\\x06\\x01\\x03\\x00\\x01\\x00\\x00\\x00\\x01\\x00\\x00\\x00\\x11\\x01\\x03\\x00\\x01\\x00\\x00\\x00\\x08\\x00\\x00\\x00\\x15\\x01\\x03\\x00\\x01\\x00\\x00\\x00\\x01\\x00\\x00\\x00\\x16\\x01\\x03\\x00\\x01\\x00\\x00\\x00\\x01\\x00\\x00\\x00\\x17\\x01\\x03\\x00\\x01\\x00\\x00\\x00\\x01\\x00\\x00\\x00\\x1a\\x01\\x05\\x00\\x01\\x00\\x00\\x00\\xdb\\x00\\x00\\x00\\x1b\\x01\\x05\\x00\\x01\\x00\\x00\\x00\\xe3\\x00\\x00\\x00\\x1c\\x01\\x03\\x00\\x01\\x00\\x00\\x00\\x01\\x00\\x00\\x00(\\x01\\x03\\x00\\x01\\x00\\x00\\x00\\x01\\x00\\x00\\x00\\x0e\\x83\\x0c\\x00\\x03\\x00\\x00\\x00\\xeb\\x00\\x00\\x00\\x82\\x84\\x0c\\x00\\x06\\x00\\x00\\x00\\x03\\x01\\x00\\x00\\xaf\\x87\\x03\\x00\\\\\\x00\\x00\\x003\\x01\\x00\\x00\\xb0\\x87\\x0c\\x00\\t\\x00\\x00\\x00\\xeb\\x01\\x00\\x00\\xb1\\x87\\x02\\x00\\\\\\x00\\x00\\x003\\x02\\x00\\x00\\x00\\x00\\x00\\x00\\x01\\x00\\x00\\x00\\x01\\x00\\x00\\x00\\x01\\x00\\x00\\x00\\x01\\x00\\x00\\x00\\x9a\\x99\\x99\\x99\\x99\\x99\\xc9?\\x9a\\x99\\x99\\x99\\x99\\x99\\xc9?\\x00\\x00\\x00\\x00\\x00\\x00\\x00\\x00\\x00\\x00\\x00\\x00\\x00\\x00\\x00\\x00\\x00\\x00\\x00\\x00\\x00\\x00\\x00\\x00\\x00\\x00\\x00\\x00\\x00\\x00\\x00\\x00\\x00\\x00\\x00\\x00`T)A\\x00\\x00\\x00\\x00H\\xe1WA\\x00\\x00\\x00\\x00\\x00\\x00\\x00\\x00\\x01\\x00\\x01\\x00\\x00\\x00\\x15\\x00\\x00\\x04\\x00\\x00\\x01\\x00\\x01\\x00\\x01\\x04\\x00\\x00\\x01\\x00\\x01\\x00\\x02\\x04\\xb1\\x87\\x08\\x00\\x00\\x00\\x00\\x08\\x00\\x00\\x01\\x00\\xff\\x7f\\x01\\x08\\xb1\\x87S\\x00\\x08\\x00\\x02\\x08\\x00\\x00\\x01\\x00\\xff\\x7f\\x06\\x08\\x00\\x00\\x01\\x00\\x8e#\\x08\\x08\\x00\\x00\\x01\\x00\\xff\\x7f\\t\\x08\\xb0\\x87\\x01\\x00\\x06\\x00\\x0b\\x08\\xb0\\x87\\x01\\x00\\x07\\x00\\r\\x08\\xb0\\x87\\x01\\x00\\x08\\x00\\x00\\x0c\\x00\\x00\\x01\\x00\\xff\\x7f\\x02\\x0c\\x00\\x00\\x01\\x00\\xff\\x7f\\x03\\x0c\\x00\\x00\\x01\\x00\\x08\\x00\\x04\\x0c\\x00\\x00\\x01\\x00)#\\x06\\x0c\\xb0\\x87\\x01\\x00\\x02\\x00\\x07\\x0c\\xb0\\x87\\x01\\x00\\x03\\x00\\x0c\\x0c\\xb0\\x87\\x01\\x00\\x01\\x00\\r\\x0c\\xb0\\x87\\x01\\x00\\x00\\x00\\x0e\\x0c\\xb0\\x87\\x01\\x00\\x04\\x00\\x0f\\x0c\\xb0\\x87\\x01\\x00\\x05\\x00\\x00\\x00\\x00\\x00\\x00\\x00\\x00\\x00\\x00\\x00\\x00\\x00\\x00@G@\\x00\\x00\\x00\\x00\\x00\\x00\\x08@\\x00\\x00\\x00\\x00\\x00\\x00F@\\x00\\x00\\x00\\x00\\x00\\x80H@\\x00\\x00\\x00\\x00\\xc0\\\\%A\\x00\\x00\\x00\\x00P-YA\\x00\\x00\\x00@\\xa6TXA\\xa8\\xf9\\xeb\\x94\\x1d\\xa4r@\\x00\\x00\\x00\\x00\\x00\\x00\\x00\\x00unnamed|GCS Name = unnamed ellipse|Datum = unknown|Ellipsoid = unnamed|Primem = Greenwich||\\x00'\n",
      "A mysterious codestream box of length 94375713\n"
     ]
    }
   ],
   "source": [
    "for box in boxes:\n",
    "    print(box)"
   ]
  },
  {
   "cell_type": "code",
   "execution_count": 165,
   "metadata": {},
   "outputs": [
    {
     "data": {
      "text/plain": [
       "'abc'"
      ]
     },
     "execution_count": 165,
     "metadata": {},
     "output_type": "execute_result"
    }
   ],
   "source": [
    "b'abc'"
   ]
  },
  {
   "cell_type": "code",
   "execution_count": null,
   "metadata": {
    "collapsed": true
   },
   "outputs": [],
   "source": []
  }
 ],
 "metadata": {
  "kernelspec": {
   "display_name": "Python 3",
   "language": "python",
   "name": "python3"
  },
  "language_info": {
   "codemirror_mode": {
    "name": "ipython",
    "version": 3
   },
   "file_extension": ".py",
   "mimetype": "text/x-python",
   "name": "python",
   "nbconvert_exporter": "python",
   "pygments_lexer": "ipython3",
   "version": "3.5.3"
  }
 },
 "nbformat": 4,
 "nbformat_minor": 2
}
